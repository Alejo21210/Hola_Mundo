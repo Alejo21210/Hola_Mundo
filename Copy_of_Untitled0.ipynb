{
  "nbformat": 4,
  "nbformat_minor": 0,
  "metadata": {
    "colab": {
      "provenance": [],
      "authorship_tag": "ABX9TyOlft7fIOYYUIPl85KuYYso",
      "include_colab_link": true
    },
    "kernelspec": {
      "name": "python3",
      "display_name": "Python 3"
    },
    "language_info": {
      "name": "python"
    }
  },
  "cells": [
    {
      "cell_type": "markdown",
      "metadata": {
        "id": "view-in-github",
        "colab_type": "text"
      },
      "source": [
        "<a href=\"https://colab.research.google.com/github/Alejo21210/Hola_mundo/blob/main/Copy_of_Untitled0.ipynb\" target=\"_parent\"><img src=\"https://colab.research.google.com/assets/colab-badge.svg\" alt=\"Open In Colab\"/></a>"
      ]
    },
    {
      "cell_type": "markdown",
      "source": [
        "**# PROGRAMA PARA CALCULAR IVA**"
      ],
      "metadata": {
        "id": "oNTfL2YZ3pZZ"
      }
    },
    {
      "cell_type": "markdown",
      "source": [
        "El codigo del programa realiza un calculo, multiplicando un monto por su respectivo IVA, dandonos el resultado mismo del valor agregado."
      ],
      "metadata": {
        "id": "Q77U30Gz4kCv"
      }
    },
    {
      "cell_type": "code",
      "execution_count": null,
      "metadata": {
        "colab": {
          "base_uri": "https://localhost:8080/"
        },
        "id": "2ZxcUsk92tAb",
        "outputId": "438e8456-f234-4794-bf26-39883d1a6705"
      },
      "outputs": [
        {
          "output_type": "stream",
          "name": "stdout",
          "text": [
            "Ingrese un valor para calcular el iva:120\n",
            "El iva es 18.0\n"
          ]
        }
      ],
      "source": [
        "#Realice una funcion que calcule el IVA del monto dado\n",
        "#El parametro del IVA es opcional y toma el valor de 15\n",
        "\n",
        "def calcular_iva(montoiva, iva=0.15):\n",
        "    return montoiva * iva\n",
        "\n",
        "valor = int(input(\"Ingrese un valor para calcular el iva:\"))\n",
        "#Llamada a la funcion\n",
        "respuesta = calcular_iva(valor)\n",
        "print(f\"El iva es {respuesta}\")\n"
      ]
    },
    {
      "cell_type": "markdown",
      "source": [
        "# CALCULADORA CON MENU DE OPCIONES"
      ],
      "metadata": {
        "id": "fHQ5VS4a5SjP"
      }
    },
    {
      "cell_type": "markdown",
      "source": [
        "Es una calculadora el cual tiene un menu para solicitar que operacion desea realizar, nos pregunta que valores queremos agregar para poder realizar la operacion que hayamos elegido"
      ],
      "metadata": {
        "id": "GkJTrui26mjO"
      }
    },
    {
      "cell_type": "code",
      "source": [
        "def sumar(valor1, valor2):\n",
        "    return valor1 + valor2\n",
        "\n",
        "def restar(valor1, valor2):\n",
        "    return valor1 - valor2\n",
        "\n",
        "def multiplicar(valor1, valor2):\n",
        "    return valor1 * valor2\n",
        "\n",
        "def dividir(valor1, valor2):\n",
        "    return valor1 / valor2\n",
        "\n",
        "\n",
        "def imprimirmenu():\n",
        "    print(\"** CALCULEMOS LOS SIGUIENTES VALORES **\")\n",
        "    print(\"1. sumar\")\n",
        "    print(\"2. restar\")\n",
        "    print(\"3. multiplicar\")\n",
        "    print(\"4. dividir\")\n",
        "\n",
        "\n",
        "\n",
        "def solicitarvalores():\n",
        "    valor1 = int(input(\"\\n Indique el valor1:\\n\"))\n",
        "    valor2 = int(input(\"\\n Indique el valor2:\\n\"))\n",
        "    return valor1, valor2\n",
        "\n",
        "def solicitaroperacion():\n",
        "    respuesta = 0\n",
        "    operacion = int(input(\"\\n Indique la operacion:\\n\"))\n",
        "    a, b = solicitarvalores()\n",
        "    if(operacion == 1 ):\n",
        "        respuesta = sumar (a, b)\n",
        "    elif(operacion == 2):\n",
        "        respuesta = restar (a, b)\n",
        "    elif(operacion == 3):\n",
        "        respuesta = multiplicar (a, b)\n",
        "    elif(operacion == 4):\n",
        "        respuesta = dividir (a, b)\n",
        "    else:\n",
        "        respuesta = -1\n",
        "    return respuesta\n",
        "while True:\n",
        "    imprimirmenu()\n",
        "    respuesta = solicitaroperacion()\n",
        "    if respuesta != -1:\n",
        "        print(f\"La respuesta de la operacion es: {respuesta}\")\n",
        "    else:\n",
        "        break"
      ],
      "metadata": {
        "colab": {
          "base_uri": "https://localhost:8080/",
          "height": 1000
        },
        "id": "2a6mgjp86xAt",
        "outputId": "fa5822d6-5a09-411c-b06b-aa7dc73d789b"
      },
      "execution_count": 1,
      "outputs": [
        {
          "output_type": "stream",
          "name": "stdout",
          "text": [
            "** CALCULEMOS LOS SIGUIENTES VALORES **\n",
            "1. sumar\n",
            "2. restar\n",
            "3. multiplicar\n",
            "4. dividir\n",
            "\n",
            " Indique la operacion:\n",
            "2\n",
            "\n",
            " Indique el valor1:\n",
            "60\n",
            "\n",
            " Indique el valor2:\n",
            "30\n",
            "La respuesta de la operacion es: 30\n",
            "** CALCULEMOS LOS SIGUIENTES VALORES **\n",
            "1. sumar\n",
            "2. restar\n",
            "3. multiplicar\n",
            "4. dividir\n",
            "\n",
            " Indique la operacion:\n",
            "1\n",
            "\n",
            " Indique el valor1:\n",
            "1\n",
            "\n",
            " Indique el valor2:\n",
            "1\n",
            "La respuesta de la operacion es: 2\n",
            "** CALCULEMOS LOS SIGUIENTES VALORES **\n",
            "1. sumar\n",
            "2. restar\n",
            "3. multiplicar\n",
            "4. dividir\n"
          ]
        },
        {
          "output_type": "error",
          "ename": "KeyboardInterrupt",
          "evalue": "Interrupted by user",
          "traceback": [
            "\u001b[0;31m---------------------------------------------------------------------------\u001b[0m",
            "\u001b[0;31mKeyboardInterrupt\u001b[0m                         Traceback (most recent call last)",
            "\u001b[0;32m<ipython-input-1-b2680c17631d>\u001b[0m in \u001b[0;36m<cell line: 43>\u001b[0;34m()\u001b[0m\n\u001b[1;32m     43\u001b[0m \u001b[0;32mwhile\u001b[0m \u001b[0;32mTrue\u001b[0m\u001b[0;34m:\u001b[0m\u001b[0;34m\u001b[0m\u001b[0;34m\u001b[0m\u001b[0m\n\u001b[1;32m     44\u001b[0m     \u001b[0mimprimirmenu\u001b[0m\u001b[0;34m(\u001b[0m\u001b[0;34m)\u001b[0m\u001b[0;34m\u001b[0m\u001b[0;34m\u001b[0m\u001b[0m\n\u001b[0;32m---> 45\u001b[0;31m     \u001b[0mrespuesta\u001b[0m \u001b[0;34m=\u001b[0m \u001b[0msolicitaroperacion\u001b[0m\u001b[0;34m(\u001b[0m\u001b[0;34m)\u001b[0m\u001b[0;34m\u001b[0m\u001b[0;34m\u001b[0m\u001b[0m\n\u001b[0m\u001b[1;32m     46\u001b[0m     \u001b[0;32mif\u001b[0m \u001b[0mrespuesta\u001b[0m \u001b[0;34m!=\u001b[0m \u001b[0;34m-\u001b[0m\u001b[0;36m1\u001b[0m\u001b[0;34m:\u001b[0m\u001b[0;34m\u001b[0m\u001b[0;34m\u001b[0m\u001b[0m\n\u001b[1;32m     47\u001b[0m         \u001b[0mprint\u001b[0m\u001b[0;34m(\u001b[0m\u001b[0;34mf\"La respuesta de la operacion es: {respuesta}\"\u001b[0m\u001b[0;34m)\u001b[0m\u001b[0;34m\u001b[0m\u001b[0;34m\u001b[0m\u001b[0m\n",
            "\u001b[0;32m<ipython-input-1-b2680c17631d>\u001b[0m in \u001b[0;36msolicitaroperacion\u001b[0;34m()\u001b[0m\n\u001b[1;32m     28\u001b[0m \u001b[0;32mdef\u001b[0m \u001b[0msolicitaroperacion\u001b[0m\u001b[0;34m(\u001b[0m\u001b[0;34m)\u001b[0m\u001b[0;34m:\u001b[0m\u001b[0;34m\u001b[0m\u001b[0;34m\u001b[0m\u001b[0m\n\u001b[1;32m     29\u001b[0m     \u001b[0mrespuesta\u001b[0m \u001b[0;34m=\u001b[0m \u001b[0;36m0\u001b[0m\u001b[0;34m\u001b[0m\u001b[0;34m\u001b[0m\u001b[0m\n\u001b[0;32m---> 30\u001b[0;31m     \u001b[0moperacion\u001b[0m \u001b[0;34m=\u001b[0m \u001b[0mint\u001b[0m\u001b[0;34m(\u001b[0m\u001b[0minput\u001b[0m\u001b[0;34m(\u001b[0m\u001b[0;34m\"\\n Indique la operacion:\\n\"\u001b[0m\u001b[0;34m)\u001b[0m\u001b[0;34m)\u001b[0m\u001b[0;34m\u001b[0m\u001b[0;34m\u001b[0m\u001b[0m\n\u001b[0m\u001b[1;32m     31\u001b[0m     \u001b[0ma\u001b[0m\u001b[0;34m,\u001b[0m \u001b[0mb\u001b[0m \u001b[0;34m=\u001b[0m \u001b[0msolicitarvalores\u001b[0m\u001b[0;34m(\u001b[0m\u001b[0;34m)\u001b[0m\u001b[0;34m\u001b[0m\u001b[0;34m\u001b[0m\u001b[0m\n\u001b[1;32m     32\u001b[0m     \u001b[0;32mif\u001b[0m\u001b[0;34m(\u001b[0m\u001b[0moperacion\u001b[0m \u001b[0;34m==\u001b[0m \u001b[0;36m1\u001b[0m \u001b[0;34m)\u001b[0m\u001b[0;34m:\u001b[0m\u001b[0;34m\u001b[0m\u001b[0;34m\u001b[0m\u001b[0m\n",
            "\u001b[0;32m/usr/local/lib/python3.10/dist-packages/ipykernel/kernelbase.py\u001b[0m in \u001b[0;36mraw_input\u001b[0;34m(self, prompt)\u001b[0m\n\u001b[1;32m    849\u001b[0m                 \u001b[0;34m\"raw_input was called, but this frontend does not support input requests.\"\u001b[0m\u001b[0;34m\u001b[0m\u001b[0;34m\u001b[0m\u001b[0m\n\u001b[1;32m    850\u001b[0m             )\n\u001b[0;32m--> 851\u001b[0;31m         return self._input_request(str(prompt),\n\u001b[0m\u001b[1;32m    852\u001b[0m             \u001b[0mself\u001b[0m\u001b[0;34m.\u001b[0m\u001b[0m_parent_ident\u001b[0m\u001b[0;34m,\u001b[0m\u001b[0;34m\u001b[0m\u001b[0;34m\u001b[0m\u001b[0m\n\u001b[1;32m    853\u001b[0m             \u001b[0mself\u001b[0m\u001b[0;34m.\u001b[0m\u001b[0m_parent_header\u001b[0m\u001b[0;34m,\u001b[0m\u001b[0;34m\u001b[0m\u001b[0;34m\u001b[0m\u001b[0m\n",
            "\u001b[0;32m/usr/local/lib/python3.10/dist-packages/ipykernel/kernelbase.py\u001b[0m in \u001b[0;36m_input_request\u001b[0;34m(self, prompt, ident, parent, password)\u001b[0m\n\u001b[1;32m    893\u001b[0m             \u001b[0;32mexcept\u001b[0m \u001b[0mKeyboardInterrupt\u001b[0m\u001b[0;34m:\u001b[0m\u001b[0;34m\u001b[0m\u001b[0;34m\u001b[0m\u001b[0m\n\u001b[1;32m    894\u001b[0m                 \u001b[0;31m# re-raise KeyboardInterrupt, to truncate traceback\u001b[0m\u001b[0;34m\u001b[0m\u001b[0;34m\u001b[0m\u001b[0m\n\u001b[0;32m--> 895\u001b[0;31m                 \u001b[0;32mraise\u001b[0m \u001b[0mKeyboardInterrupt\u001b[0m\u001b[0;34m(\u001b[0m\u001b[0;34m\"Interrupted by user\"\u001b[0m\u001b[0;34m)\u001b[0m \u001b[0;32mfrom\u001b[0m \u001b[0;32mNone\u001b[0m\u001b[0;34m\u001b[0m\u001b[0;34m\u001b[0m\u001b[0m\n\u001b[0m\u001b[1;32m    896\u001b[0m             \u001b[0;32mexcept\u001b[0m \u001b[0mException\u001b[0m \u001b[0;32mas\u001b[0m \u001b[0me\u001b[0m\u001b[0;34m:\u001b[0m\u001b[0;34m\u001b[0m\u001b[0;34m\u001b[0m\u001b[0m\n\u001b[1;32m    897\u001b[0m                 \u001b[0mself\u001b[0m\u001b[0;34m.\u001b[0m\u001b[0mlog\u001b[0m\u001b[0;34m.\u001b[0m\u001b[0mwarning\u001b[0m\u001b[0;34m(\u001b[0m\u001b[0;34m\"Invalid Message:\"\u001b[0m\u001b[0;34m,\u001b[0m \u001b[0mexc_info\u001b[0m\u001b[0;34m=\u001b[0m\u001b[0;32mTrue\u001b[0m\u001b[0;34m)\u001b[0m\u001b[0;34m\u001b[0m\u001b[0;34m\u001b[0m\u001b[0m\n",
            "\u001b[0;31mKeyboardInterrupt\u001b[0m: Interrupted by user"
          ]
        }
      ]
    }
  ]
}